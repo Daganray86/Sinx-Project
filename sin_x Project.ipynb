{
 "cells": [
  {
   "cell_type": "markdown",
   "id": "af2b5a00",
   "metadata": {},
   "source": [
    "Sin(x) Project "
   ]
  },
  {
   "cell_type": "markdown",
   "id": "8e90cc34",
   "metadata": {},
   "source": [
    "Dagan Shoesmith and Michael Lyford"
   ]
  },
  {
   "cell_type": "code",
   "execution_count": null,
   "id": "79245a26",
   "metadata": {},
   "outputs": [],
   "source": [
    "# Import necessary libraries\n",
    "import numpy as np \n",
    "import matplotlib.pyplot as plt\n"
   ]
  },
  {
   "cell_type": "markdown",
   "id": "e076549d",
   "metadata": {},
   "source": [
    "Fourier Series"
   ]
  },
  {
   "cell_type": "code",
   "execution_count": null,
   "id": "4460a1e9",
   "metadata": {},
   "outputs": [],
   "source": []
  },
  {
   "cell_type": "markdown",
   "id": "b985e594",
   "metadata": {},
   "source": [
    "Splines"
   ]
  },
  {
   "cell_type": "code",
   "execution_count": null,
   "id": "3cce1c34",
   "metadata": {},
   "outputs": [],
   "source": []
  },
  {
   "cell_type": "markdown",
   "id": "580a2a77",
   "metadata": {},
   "source": [
    "Rational Function Interpolation"
   ]
  },
  {
   "cell_type": "code",
   "execution_count": null,
   "id": "85b32966",
   "metadata": {},
   "outputs": [],
   "source": []
  }
 ],
 "metadata": {
  "kernelspec": {
   "display_name": "Python 3",
   "language": "python",
   "name": "python3"
  },
  "language_info": {
   "name": "python",
   "version": "3.11.9"
  }
 },
 "nbformat": 4,
 "nbformat_minor": 5
}
